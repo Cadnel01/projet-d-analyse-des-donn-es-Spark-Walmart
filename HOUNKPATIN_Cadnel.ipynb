{
 "cells": [
  {
   "cell_type": "code",
   "execution_count": 87,
   "metadata": {},
   "outputs": [],
   "source": [
    "import pandas as pd\n",
    "import numpy as np\n",
    "import datetime\n",
    "walmart=pd.read_csv(\"walmart_stock.csv\")\n"
   ]
  },
  {
   "cell_type": "code",
   "execution_count": 76,
   "metadata": {},
   "outputs": [
    {
     "data": {
      "text/html": [
       "<div>\n",
       "<style scoped>\n",
       "    .dataframe tbody tr th:only-of-type {\n",
       "        vertical-align: middle;\n",
       "    }\n",
       "\n",
       "    .dataframe tbody tr th {\n",
       "        vertical-align: top;\n",
       "    }\n",
       "\n",
       "    .dataframe thead th {\n",
       "        text-align: right;\n",
       "    }\n",
       "</style>\n",
       "<table border=\"1\" class=\"dataframe\">\n",
       "  <thead>\n",
       "    <tr style=\"text-align: right;\">\n",
       "      <th></th>\n",
       "      <th>Date</th>\n",
       "      <th>Open</th>\n",
       "      <th>High</th>\n",
       "      <th>Low</th>\n",
       "      <th>Close</th>\n",
       "      <th>Volume</th>\n",
       "      <th>Adj Close</th>\n",
       "    </tr>\n",
       "  </thead>\n",
       "  <tbody>\n",
       "    <tr>\n",
       "      <th>count</th>\n",
       "      <td>1258</td>\n",
       "      <td>1258.000000</td>\n",
       "      <td>1258.000000</td>\n",
       "      <td>1258.000000</td>\n",
       "      <td>1258.000000</td>\n",
       "      <td>1.258000e+03</td>\n",
       "      <td>1258.000000</td>\n",
       "    </tr>\n",
       "    <tr>\n",
       "      <th>unique</th>\n",
       "      <td>1258</td>\n",
       "      <td>NaN</td>\n",
       "      <td>NaN</td>\n",
       "      <td>NaN</td>\n",
       "      <td>NaN</td>\n",
       "      <td>NaN</td>\n",
       "      <td>NaN</td>\n",
       "    </tr>\n",
       "    <tr>\n",
       "      <th>top</th>\n",
       "      <td>2016-09-08 00:00:00</td>\n",
       "      <td>NaN</td>\n",
       "      <td>NaN</td>\n",
       "      <td>NaN</td>\n",
       "      <td>NaN</td>\n",
       "      <td>NaN</td>\n",
       "      <td>NaN</td>\n",
       "    </tr>\n",
       "    <tr>\n",
       "      <th>freq</th>\n",
       "      <td>1</td>\n",
       "      <td>NaN</td>\n",
       "      <td>NaN</td>\n",
       "      <td>NaN</td>\n",
       "      <td>NaN</td>\n",
       "      <td>NaN</td>\n",
       "      <td>NaN</td>\n",
       "    </tr>\n",
       "    <tr>\n",
       "      <th>first</th>\n",
       "      <td>2012-01-03 00:00:00</td>\n",
       "      <td>NaN</td>\n",
       "      <td>NaN</td>\n",
       "      <td>NaN</td>\n",
       "      <td>NaN</td>\n",
       "      <td>NaN</td>\n",
       "      <td>NaN</td>\n",
       "    </tr>\n",
       "    <tr>\n",
       "      <th>last</th>\n",
       "      <td>2016-12-30 00:00:00</td>\n",
       "      <td>NaN</td>\n",
       "      <td>NaN</td>\n",
       "      <td>NaN</td>\n",
       "      <td>NaN</td>\n",
       "      <td>NaN</td>\n",
       "      <td>NaN</td>\n",
       "    </tr>\n",
       "    <tr>\n",
       "      <th>mean</th>\n",
       "      <td>NaN</td>\n",
       "      <td>72.357854</td>\n",
       "      <td>72.839388</td>\n",
       "      <td>71.918601</td>\n",
       "      <td>72.388450</td>\n",
       "      <td>8.222093e+06</td>\n",
       "      <td>67.238838</td>\n",
       "    </tr>\n",
       "    <tr>\n",
       "      <th>std</th>\n",
       "      <td>NaN</td>\n",
       "      <td>6.768090</td>\n",
       "      <td>6.768187</td>\n",
       "      <td>6.744076</td>\n",
       "      <td>6.756859</td>\n",
       "      <td>4.519781e+06</td>\n",
       "      <td>6.722609</td>\n",
       "    </tr>\n",
       "    <tr>\n",
       "      <th>min</th>\n",
       "      <td>NaN</td>\n",
       "      <td>56.389999</td>\n",
       "      <td>57.060001</td>\n",
       "      <td>56.299999</td>\n",
       "      <td>56.419998</td>\n",
       "      <td>2.094900e+06</td>\n",
       "      <td>50.363689</td>\n",
       "    </tr>\n",
       "    <tr>\n",
       "      <th>25%</th>\n",
       "      <td>NaN</td>\n",
       "      <td>68.627503</td>\n",
       "      <td>69.059998</td>\n",
       "      <td>68.162502</td>\n",
       "      <td>68.632497</td>\n",
       "      <td>5.791100e+06</td>\n",
       "      <td>63.778335</td>\n",
       "    </tr>\n",
       "    <tr>\n",
       "      <th>50%</th>\n",
       "      <td>NaN</td>\n",
       "      <td>73.235000</td>\n",
       "      <td>73.725002</td>\n",
       "      <td>72.839996</td>\n",
       "      <td>73.265000</td>\n",
       "      <td>7.093500e+06</td>\n",
       "      <td>68.541162</td>\n",
       "    </tr>\n",
       "    <tr>\n",
       "      <th>75%</th>\n",
       "      <td>NaN</td>\n",
       "      <td>76.629997</td>\n",
       "      <td>77.094999</td>\n",
       "      <td>76.250000</td>\n",
       "      <td>76.709999</td>\n",
       "      <td>9.394675e+06</td>\n",
       "      <td>71.105668</td>\n",
       "    </tr>\n",
       "    <tr>\n",
       "      <th>max</th>\n",
       "      <td>NaN</td>\n",
       "      <td>90.800003</td>\n",
       "      <td>90.970001</td>\n",
       "      <td>89.250000</td>\n",
       "      <td>90.470001</td>\n",
       "      <td>8.089810e+07</td>\n",
       "      <td>84.914216</td>\n",
       "    </tr>\n",
       "  </tbody>\n",
       "</table>\n",
       "</div>"
      ],
      "text/plain": [
       "                       Date         Open         High          Low  \\\n",
       "count                  1258  1258.000000  1258.000000  1258.000000   \n",
       "unique                 1258          NaN          NaN          NaN   \n",
       "top     2016-09-08 00:00:00          NaN          NaN          NaN   \n",
       "freq                      1          NaN          NaN          NaN   \n",
       "first   2012-01-03 00:00:00          NaN          NaN          NaN   \n",
       "last    2016-12-30 00:00:00          NaN          NaN          NaN   \n",
       "mean                    NaN    72.357854    72.839388    71.918601   \n",
       "std                     NaN     6.768090     6.768187     6.744076   \n",
       "min                     NaN    56.389999    57.060001    56.299999   \n",
       "25%                     NaN    68.627503    69.059998    68.162502   \n",
       "50%                     NaN    73.235000    73.725002    72.839996   \n",
       "75%                     NaN    76.629997    77.094999    76.250000   \n",
       "max                     NaN    90.800003    90.970001    89.250000   \n",
       "\n",
       "              Close        Volume    Adj Close  \n",
       "count   1258.000000  1.258000e+03  1258.000000  \n",
       "unique          NaN           NaN          NaN  \n",
       "top             NaN           NaN          NaN  \n",
       "freq            NaN           NaN          NaN  \n",
       "first           NaN           NaN          NaN  \n",
       "last            NaN           NaN          NaN  \n",
       "mean      72.388450  8.222093e+06    67.238838  \n",
       "std        6.756859  4.519781e+06     6.722609  \n",
       "min       56.419998  2.094900e+06    50.363689  \n",
       "25%       68.632497  5.791100e+06    63.778335  \n",
       "50%       73.265000  7.093500e+06    68.541162  \n",
       "75%       76.709999  9.394675e+06    71.105668  \n",
       "max       90.470001  8.089810e+07    84.914216  "
      ]
     },
     "execution_count": 76,
     "metadata": {},
     "output_type": "execute_result"
    }
   ],
   "source": [
    "walmart['Date']\n",
    "walmart.describe(include='all')"
   ]
  },
  {
   "cell_type": "markdown",
   "metadata": {},
   "source": [
    "#   7- Mean of the Close column"
   ]
  },
  {
   "cell_type": "code",
   "execution_count": 151,
   "metadata": {},
   "outputs": [
    {
     "name": "stdout",
     "output_type": "stream",
     "text": [
      "Mean of the Close column  : 72.38844998012726\n"
     ]
    }
   ],
   "source": [
    "Close_mean=walmart['Close'].mean()\n",
    "print(\"Mean of the Close column\",\" :\",Close_mean)"
   ]
  },
  {
   "cell_type": "markdown",
   "metadata": {},
   "source": [
    "#   8- Max and min of the Volume column"
   ]
  },
  {
   "cell_type": "code",
   "execution_count": 153,
   "metadata": {},
   "outputs": [
    {
     "name": "stdout",
     "output_type": "stream",
     "text": [
      "Max of the Volume column   : 80898100\n",
      "Min of the Volume column   : 2094900\n"
     ]
    }
   ],
   "source": [
    "Volume_max=walmart['Volume'].max()\n",
    "Volume_min=walmart['Volume'].min()\n",
    "print(\"Max of the Volume column\", \"  :\" ,Volume_max)\n",
    "print(\"Min of the Volume column\", \"  :\" ,Volume_min)"
   ]
  },
  {
   "cell_type": "markdown",
   "metadata": {},
   "source": [
    "#  9- Numbers of days the close was lower than 60 "
   ]
  },
  {
   "cell_type": "code",
   "execution_count": 154,
   "metadata": {},
   "outputs": [
    {
     "name": "stdout",
     "output_type": "stream",
     "text": [
      "The close was lower than 60 during : 81 Day\n"
     ]
    }
   ],
   "source": [
    "Days=walmart.loc[walmart['Close']<60,:]['Date'].shape[0]\n",
    "print(\"The close was lower than 60 during :\", Days, \"Day\")"
   ]
  },
  {
   "cell_type": "markdown",
   "metadata": {},
   "source": [
    "# 10- Percentage of the time was  High greater than 80 dollars"
   ]
  },
  {
   "cell_type": "code",
   "execution_count": 156,
   "metadata": {},
   "outputs": [
    {
     "name": "stdout",
     "output_type": "stream",
     "text": [
      "Percentage of the time was High greater than 80 dollars      : 9.141494435612083 %\n"
     ]
    }
   ],
   "source": [
    "High_greater= walmart.loc[walmart['High']>80,:]['Date'].shape[0]/walmart['Date'].shape[0]\n",
    "print(\"Percentage of the time was High greater than 80 dollars      :\",High_greater*100,\"%\")"
   ]
  },
  {
   "cell_type": "markdown",
   "metadata": {},
   "source": [
    "#  11- Max High per year"
   ]
  },
  {
   "cell_type": "code",
   "execution_count": 93,
   "metadata": {},
   "outputs": [],
   "source": [
    "walmart['Date']=pd.to_datetime(walmart['Date'],format='%Y-%m-%d %H:%M:%S.%f')"
   ]
  },
  {
   "cell_type": "code",
   "execution_count": 97,
   "metadata": {},
   "outputs": [
    {
     "data": {
      "text/html": [
       "<div>\n",
       "<style scoped>\n",
       "    .dataframe tbody tr th:only-of-type {\n",
       "        vertical-align: middle;\n",
       "    }\n",
       "\n",
       "    .dataframe tbody tr th {\n",
       "        vertical-align: top;\n",
       "    }\n",
       "\n",
       "    .dataframe thead th {\n",
       "        text-align: right;\n",
       "    }\n",
       "</style>\n",
       "<table border=\"1\" class=\"dataframe\">\n",
       "  <thead>\n",
       "    <tr style=\"text-align: right;\">\n",
       "      <th></th>\n",
       "      <th>Date</th>\n",
       "      <th>Open</th>\n",
       "      <th>High</th>\n",
       "      <th>Low</th>\n",
       "      <th>Close</th>\n",
       "      <th>Volume</th>\n",
       "      <th>Adj Close</th>\n",
       "      <th>Year</th>\n",
       "      <th>Month</th>\n",
       "    </tr>\n",
       "  </thead>\n",
       "  <tbody>\n",
       "    <tr>\n",
       "      <th>0</th>\n",
       "      <td>2012-01-03</td>\n",
       "      <td>59.970001</td>\n",
       "      <td>61.060001</td>\n",
       "      <td>59.869999</td>\n",
       "      <td>60.330002</td>\n",
       "      <td>12668800</td>\n",
       "      <td>52.619235</td>\n",
       "      <td>2012</td>\n",
       "      <td>1</td>\n",
       "    </tr>\n",
       "    <tr>\n",
       "      <th>1</th>\n",
       "      <td>2012-01-04</td>\n",
       "      <td>60.209999</td>\n",
       "      <td>60.349998</td>\n",
       "      <td>59.470001</td>\n",
       "      <td>59.709999</td>\n",
       "      <td>9593300</td>\n",
       "      <td>52.078475</td>\n",
       "      <td>2012</td>\n",
       "      <td>1</td>\n",
       "    </tr>\n",
       "    <tr>\n",
       "      <th>2</th>\n",
       "      <td>2012-01-05</td>\n",
       "      <td>59.349998</td>\n",
       "      <td>59.619999</td>\n",
       "      <td>58.369999</td>\n",
       "      <td>59.419998</td>\n",
       "      <td>12768200</td>\n",
       "      <td>51.825539</td>\n",
       "      <td>2012</td>\n",
       "      <td>1</td>\n",
       "    </tr>\n",
       "    <tr>\n",
       "      <th>3</th>\n",
       "      <td>2012-01-06</td>\n",
       "      <td>59.419998</td>\n",
       "      <td>59.450001</td>\n",
       "      <td>58.869999</td>\n",
       "      <td>59.000000</td>\n",
       "      <td>8069400</td>\n",
       "      <td>51.459220</td>\n",
       "      <td>2012</td>\n",
       "      <td>1</td>\n",
       "    </tr>\n",
       "    <tr>\n",
       "      <th>4</th>\n",
       "      <td>2012-01-09</td>\n",
       "      <td>59.029999</td>\n",
       "      <td>59.549999</td>\n",
       "      <td>58.919998</td>\n",
       "      <td>59.180000</td>\n",
       "      <td>6679300</td>\n",
       "      <td>51.616215</td>\n",
       "      <td>2012</td>\n",
       "      <td>1</td>\n",
       "    </tr>\n",
       "    <tr>\n",
       "      <th>...</th>\n",
       "      <td>...</td>\n",
       "      <td>...</td>\n",
       "      <td>...</td>\n",
       "      <td>...</td>\n",
       "      <td>...</td>\n",
       "      <td>...</td>\n",
       "      <td>...</td>\n",
       "      <td>...</td>\n",
       "      <td>...</td>\n",
       "    </tr>\n",
       "    <tr>\n",
       "      <th>1253</th>\n",
       "      <td>2016-12-23</td>\n",
       "      <td>69.430000</td>\n",
       "      <td>69.750000</td>\n",
       "      <td>69.360001</td>\n",
       "      <td>69.540001</td>\n",
       "      <td>4803900</td>\n",
       "      <td>69.032411</td>\n",
       "      <td>2016</td>\n",
       "      <td>12</td>\n",
       "    </tr>\n",
       "    <tr>\n",
       "      <th>1254</th>\n",
       "      <td>2016-12-27</td>\n",
       "      <td>69.300003</td>\n",
       "      <td>69.820000</td>\n",
       "      <td>69.250000</td>\n",
       "      <td>69.699997</td>\n",
       "      <td>4435700</td>\n",
       "      <td>69.191240</td>\n",
       "      <td>2016</td>\n",
       "      <td>12</td>\n",
       "    </tr>\n",
       "    <tr>\n",
       "      <th>1255</th>\n",
       "      <td>2016-12-28</td>\n",
       "      <td>69.940002</td>\n",
       "      <td>70.000000</td>\n",
       "      <td>69.260002</td>\n",
       "      <td>69.309998</td>\n",
       "      <td>4875700</td>\n",
       "      <td>68.804087</td>\n",
       "      <td>2016</td>\n",
       "      <td>12</td>\n",
       "    </tr>\n",
       "    <tr>\n",
       "      <th>1256</th>\n",
       "      <td>2016-12-29</td>\n",
       "      <td>69.209999</td>\n",
       "      <td>69.519997</td>\n",
       "      <td>69.120003</td>\n",
       "      <td>69.260002</td>\n",
       "      <td>4298400</td>\n",
       "      <td>68.754456</td>\n",
       "      <td>2016</td>\n",
       "      <td>12</td>\n",
       "    </tr>\n",
       "    <tr>\n",
       "      <th>1257</th>\n",
       "      <td>2016-12-30</td>\n",
       "      <td>69.120003</td>\n",
       "      <td>69.430000</td>\n",
       "      <td>68.830002</td>\n",
       "      <td>69.120003</td>\n",
       "      <td>6889500</td>\n",
       "      <td>68.615479</td>\n",
       "      <td>2016</td>\n",
       "      <td>12</td>\n",
       "    </tr>\n",
       "  </tbody>\n",
       "</table>\n",
       "<p>1258 rows × 9 columns</p>\n",
       "</div>"
      ],
      "text/plain": [
       "           Date       Open       High        Low      Close    Volume  \\\n",
       "0    2012-01-03  59.970001  61.060001  59.869999  60.330002  12668800   \n",
       "1    2012-01-04  60.209999  60.349998  59.470001  59.709999   9593300   \n",
       "2    2012-01-05  59.349998  59.619999  58.369999  59.419998  12768200   \n",
       "3    2012-01-06  59.419998  59.450001  58.869999  59.000000   8069400   \n",
       "4    2012-01-09  59.029999  59.549999  58.919998  59.180000   6679300   \n",
       "...         ...        ...        ...        ...        ...       ...   \n",
       "1253 2016-12-23  69.430000  69.750000  69.360001  69.540001   4803900   \n",
       "1254 2016-12-27  69.300003  69.820000  69.250000  69.699997   4435700   \n",
       "1255 2016-12-28  69.940002  70.000000  69.260002  69.309998   4875700   \n",
       "1256 2016-12-29  69.209999  69.519997  69.120003  69.260002   4298400   \n",
       "1257 2016-12-30  69.120003  69.430000  68.830002  69.120003   6889500   \n",
       "\n",
       "      Adj Close  Year  Month  \n",
       "0     52.619235  2012      1  \n",
       "1     52.078475  2012      1  \n",
       "2     51.825539  2012      1  \n",
       "3     51.459220  2012      1  \n",
       "4     51.616215  2012      1  \n",
       "...         ...   ...    ...  \n",
       "1253  69.032411  2016     12  \n",
       "1254  69.191240  2016     12  \n",
       "1255  68.804087  2016     12  \n",
       "1256  68.754456  2016     12  \n",
       "1257  68.615479  2016     12  \n",
       "\n",
       "[1258 rows x 9 columns]"
      ]
     },
     "execution_count": 97,
     "metadata": {},
     "output_type": "execute_result"
    }
   ],
   "source": [
    "walmart['Year']=walmart['Date'].dt.year\n",
    "walmart['Month']=walmart['Date'].dt.month\n",
    "walmart"
   ]
  },
  {
   "cell_type": "code",
   "execution_count": 157,
   "metadata": {},
   "outputs": [
    {
     "name": "stdout",
     "output_type": "stream",
     "text": [
      "2012 : 77.599998\n"
     ]
    }
   ],
   "source": [
    "High_2012= walmart.loc[walmart['Year']==2012,]['High'].max()\n",
    "print(\"High_2012  :\",High_2012 )"
   ]
  },
  {
   "cell_type": "code",
   "execution_count": 159,
   "metadata": {},
   "outputs": [
    {
     "name": "stdout",
     "output_type": "stream",
     "text": [
      "High_2013 : 81.370003\n"
     ]
    }
   ],
   "source": [
    "High_2013=walmart.loc[walmart['Year']==2013,]['High'].max()\n",
    "print(\"High_2013 :\",High_2013)"
   ]
  },
  {
   "cell_type": "code",
   "execution_count": 162,
   "metadata": {},
   "outputs": [
    {
     "name": "stdout",
     "output_type": "stream",
     "text": [
      "High_2013  : 81.370003\n"
     ]
    }
   ],
   "source": [
    "High_2014= walmart.loc[walmart['Year']==2014,]['High'].max()\n",
    "print(\"High_2013  :\",High_2013)"
   ]
  },
  {
   "cell_type": "code",
   "execution_count": 163,
   "metadata": {},
   "outputs": [
    {
     "name": "stdout",
     "output_type": "stream",
     "text": [
      "High_2015  : 90.970001\n"
     ]
    }
   ],
   "source": [
    "High_2015= walmart.loc[walmart['Year']==2015,]['High'].max()\n",
    "print(\"High_2015  :\",High_2015)"
   ]
  },
  {
   "cell_type": "code",
   "execution_count": 165,
   "metadata": {},
   "outputs": [
    {
     "name": "stdout",
     "output_type": "stream",
     "text": [
      "High_2016  : 75.190002\n"
     ]
    }
   ],
   "source": [
    "High_2016= walmart.loc[walmart['Year']==2016,]['High'].max()\n",
    "print(\"High_2016  :\",High_2016)"
   ]
  },
  {
   "cell_type": "markdown",
   "metadata": {},
   "source": [
    "#  12- The average Close for each Calendar Month"
   ]
  },
  {
   "cell_type": "code",
   "execution_count": 149,
   "metadata": {},
   "outputs": [
    {
     "name": "stdout",
     "output_type": "stream",
     "text": [
      "Janvier   : 71.97009924752473\n",
      "Février   : 71.72845387628868\n",
      "Mars   : 72.20289709345795\n",
      "Avril   : 73.45123863809525\n",
      "Mai   : 72.71783049056604\n",
      "Juin   : 72.9262265471698\n",
      "Juillet   : 74.77878527102803\n",
      "Août   : 73.51781822727274\n",
      "Septembre   : 72.60294148039216\n",
      "Octobre   : 72.12963649090908\n",
      "Novembre   : 72.52673264356439\n",
      "Décembre   : 73.35566025471697\n"
     ]
    }
   ],
   "source": [
    "mois=['0','Janvier','Février','Mars','Avril','Mai','Juin','Juillet','Août','Septembre','Octobre','Novembre','Décembre']\n",
    "elements=pd.Series([1,2,3,4,5,6,7,8,9,10,11,12],index=j)\n",
    "for i in elements:\n",
    "        print(mois[i],\"  :\" ,walmart.loc[walmart['Month']==i,]['High'].mean())"
   ]
  }
 ],
 "metadata": {
  "kernelspec": {
   "display_name": "Python 3",
   "language": "python",
   "name": "python3"
  },
  "language_info": {
   "codemirror_mode": {
    "name": "ipython",
    "version": 3
   },
   "file_extension": ".py",
   "mimetype": "text/x-python",
   "name": "python",
   "nbconvert_exporter": "python",
   "pygments_lexer": "ipython3",
   "version": "3.8.3"
  }
 },
 "nbformat": 4,
 "nbformat_minor": 4
}
